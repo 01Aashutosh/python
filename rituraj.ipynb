{
 "cells": [
  {
   "cell_type": "code",
   "execution_count": 27,
   "id": "230215b3",
   "metadata": {},
   "outputs": [
    {
     "name": "stdout",
     "output_type": "stream",
     "text": [
      "enter limit:50\n",
      "prime numbers upto 50 are:\n"
     ]
    }
   ],
   "source": [
    "n=int(input(\"enter limit: \"))\n",
    "\n",
    "print(\"prime numbers upto\", n, \"are:\")\n",
    "for num in range (2,n+1):\n",
    "    if num > 1:\n",
    "        for i in range (2, (num//2) +1):\n",
    "            if ((num % i) == 0):\n",
    "                 break\n",
    "    else:\n",
    "        print(num,end=',')"
   ]
  },
  {
   "cell_type": "code",
   "execution_count": 31,
   "id": "262064b3",
   "metadata": {},
   "outputs": [
    {
     "name": "stdout",
     "output_type": "stream",
     "text": [
      "enter the number:5\n",
      "factorial of 5 is 120\n"
     ]
    }
   ],
   "source": [
    "def fact_rec(n):\n",
    "    if(n==0 or n==1):\n",
    "        return 1;\n",
    "    else:\n",
    "        return(n*fact_rec(n-1))\n",
    "n=int(input(\"enter the number:\"))\n",
    "if(n<0):\n",
    "    print(\"invalid input\")\n",
    "else:\n",
    "    f=fact_rec(n)\n",
    "    print(\"factorial of {} is {}\".format(n,f))"
   ]
  },
  {
   "cell_type": "code",
   "execution_count": 11,
   "id": "b2048eb0",
   "metadata": {},
   "outputs": [
    {
     "name": "stdout",
     "output_type": "stream",
     "text": [
      "enter the first number:20\n",
      "enter the second number:30\n",
      "enter the third number:40\n",
      "largest of20,30 and40 is:40\n"
     ]
    }
   ],
   "source": [
    "a=int(input(\"enter the first number:\"))\n",
    "b=int(input(\"enter the second number:\"))\n",
    "c=int(input(\"enter the third number:\"))\n",
    "large=a\n",
    "if(b>large):\n",
    "    large=b\n",
    "if(c>large):\n",
    "    large=c\n",
    "print(\"largest of{},{} and{} is:{}\".format(a,b,c,large))"
   ]
  },
  {
   "cell_type": "code",
   "execution_count": 29,
   "id": "aab7a439",
   "metadata": {},
   "outputs": [
    {
     "name": "stdout",
     "output_type": "stream",
     "text": [
      "enter the first number:10\n",
      "enter the second number:25\n",
      "GCD of 10 and 25 is: 5\n"
     ]
    }
   ],
   "source": [
    "def gcd(a,b):\n",
    "    if(b==0):\n",
    "        return a\n",
    "    else:\n",
    "        return gcd(b,a%b)\n",
    "a=int(input(\"enter the first number:\"))\n",
    "b=int(input(\"enter the second number:\"))\n",
    "GCD=gcd(a,b)\n",
    "print(\"GCD of {} and {} is: {}\".format(a,b,GCD))\n",
    "    "
   ]
  },
  {
   "cell_type": "code",
   "execution_count": 28,
   "id": "3269994b",
   "metadata": {},
   "outputs": [
    {
     "name": "stdout",
     "output_type": "stream",
     "text": [
      "enter the first number:5\n",
      "enter the second number:6\n",
      "GCD of 5 and 6 is:1\n"
     ]
    }
   ],
   "source": [
    "def gcd(a,b):\n",
    "    while(a!=b):\n",
    "        if(a>b):\n",
    "            a=a-b\n",
    "        else:\n",
    "            b=b-a\n",
    "    return a\n",
    "a=int(input(\"enter the first number:\"))\n",
    "b=int(input(\"enter the second number:\"))\n",
    "g=gcd(a,b)\n",
    "print(\"GCD of {} and {} is:{}\".format(a,b,g))"
   ]
  },
  {
   "cell_type": "code",
   "execution_count": 25,
   "id": "1acc1119",
   "metadata": {},
   "outputs": [
    {
     "name": "stdout",
     "output_type": "stream",
     "text": [
      "enter the lower number:50\n",
      "enter the upper number:150\n",
      "prime numbers between 50 and 150 are:\n",
      "53,59,61,67,71,73,79,83,89,97,101,103,107,109,113,127,131,137,139,149,"
     ]
    }
   ],
   "source": [
    "lower=int(input(\"enter the lower number:\"))\n",
    "upper=int(input(\"enter the upper number:\"))\n",
    "print(\"prime numbers between\",lower,\"and\" ,upper,\"are:\")\n",
    "for num in range(lower,upper +1):\n",
    "    if num > 1:\n",
    "        for i in range(2,(num//2) +1):\n",
    "            if ((num % i) ==0):\n",
    "                break\n",
    "        else:\n",
    "            print(num,end=',')"
   ]
  },
  {
   "cell_type": "code",
   "execution_count": 36,
   "id": "20b46bf3",
   "metadata": {},
   "outputs": [
    {
     "name": "stdout",
     "output_type": "stream",
     "text": [
      "enter the number of terms: 5\n"
     ]
    },
    {
     "ename": "NameError",
     "evalue": "name 'fibonacci_rec' is not defined",
     "output_type": "error",
     "traceback": [
      "\u001b[1;31m---------------------------------------------------------------------------\u001b[0m",
      "\u001b[1;31mNameError\u001b[0m                                 Traceback (most recent call last)",
      "\u001b[1;32m~\\AppData\\Local\\Temp\\ipykernel_10064\\3518788390.py\u001b[0m in \u001b[0;36m<module>\u001b[1;34m\u001b[0m\n\u001b[0;32m      8\u001b[0m \u001b[0mm\u001b[0m \u001b[1;33m=\u001b[0m \u001b[0mint\u001b[0m\u001b[1;33m(\u001b[0m\u001b[0minput\u001b[0m\u001b[1;33m(\u001b[0m\u001b[1;34m\"enter the number of terms: \"\u001b[0m\u001b[1;33m)\u001b[0m\u001b[1;33m)\u001b[0m\u001b[1;33m\u001b[0m\u001b[1;33m\u001b[0m\u001b[0m\n\u001b[0;32m      9\u001b[0m \u001b[1;32mfor\u001b[0m \u001b[0mnum\u001b[0m \u001b[1;32min\u001b[0m \u001b[0mrange\u001b[0m\u001b[1;33m(\u001b[0m\u001b[1;36m1\u001b[0m\u001b[1;33m,\u001b[0m \u001b[0mm\u001b[0m\u001b[1;33m+\u001b[0m\u001b[1;36m1\u001b[0m\u001b[1;33m)\u001b[0m\u001b[1;33m:\u001b[0m\u001b[1;33m\u001b[0m\u001b[1;33m\u001b[0m\u001b[0m\n\u001b[1;32m---> 10\u001b[1;33m            \u001b[0mprint\u001b[0m\u001b[1;33m(\u001b[0m\u001b[0mfibonacci_rec\u001b[0m\u001b[1;33m(\u001b[0m\u001b[0mnum\u001b[0m\u001b[1;33m)\u001b[0m\u001b[1;33m,\u001b[0m\u001b[0mend\u001b[0m\u001b[1;33m=\u001b[0m\u001b[1;34m''\u001b[0m\u001b[1;33m)\u001b[0m\u001b[1;33m\u001b[0m\u001b[1;33m\u001b[0m\u001b[0m\n\u001b[0m",
      "\u001b[1;31mNameError\u001b[0m: name 'fibonacci_rec' is not defined"
     ]
    }
   ],
   "source": [
    "def fibonacii_rec(q):\n",
    "    if q==1:\n",
    "        return 0\n",
    "    elif q == 2:\n",
    "        return 1\n",
    "    else:\n",
    "        return fibonacci_rec(q-1) + fabonacci_rec(q-2)\n",
    "m = int(input(\"enter the number of terms: \"))\n",
    "for num in range(1, m+1):\n",
    "           print(fibonacci_rec(num),end='')"
   ]
  },
  {
   "cell_type": "code",
   "execution_count": null,
   "id": "2add05cc",
   "metadata": {},
   "outputs": [],
   "source": []
  }
 ],
 "metadata": {
  "kernelspec": {
   "display_name": "Python 3 (ipykernel)",
   "language": "python",
   "name": "python3"
  },
  "language_info": {
   "codemirror_mode": {
    "name": "ipython",
    "version": 3
   },
   "file_extension": ".py",
   "mimetype": "text/x-python",
   "name": "python",
   "nbconvert_exporter": "python",
   "pygments_lexer": "ipython3",
   "version": "3.9.13"
  }
 },
 "nbformat": 4,
 "nbformat_minor": 5
}
